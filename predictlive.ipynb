{
 "cells": [
  {
   "cell_type": "code",
   "execution_count": null,
   "id": "503112a6-fe5e-4f52-b5e7-7ab7feaef901",
   "metadata": {},
   "outputs": [],
   "source": [
    "import pandas as pd"
   ]
  },
  {
   "cell_type": "code",
   "execution_count": null,
   "id": "74e1f18d-5ed5-4d2a-9828-01c45c4bb60e",
   "metadata": {},
   "outputs": [],
   "source": [
    "df = pd.read_csv(\"nba_games.csv\" , index_col=0)\n",
    "df"
   ]
  },
  {
   "cell_type": "code",
   "execution_count": null,
   "id": "947ed3aa-4ae8-4927-b0bc-4b2c90cd4b18",
   "metadata": {},
   "outputs": [],
   "source": [
    "df = df.sort_values(\"date\")\n",
    "df = df.reset_index(drop=True)"
   ]
  },
  {
   "cell_type": "code",
   "execution_count": null,
   "id": "58f58c40-1f88-45a8-8894-1b6d9b5b23a2",
   "metadata": {},
   "outputs": [],
   "source": [
    "del df[\"mp.1\"]\n",
    "del df[\"mp_opp.1\"]\n",
    "del df[\"index_opp\"]\n",
    "df"
   ]
  },
  {
   "cell_type": "code",
   "execution_count": null,
   "id": "e8f0a7a0-fe42-40db-a390-41466815d22c",
   "metadata": {},
   "outputs": [],
   "source": [
    "def add_target(team):\n",
    "    team[\"target\"] = team[\"won\"].shift(-1)\n",
    "    return team\n",
    "df = df.groupby(\"team\", group_keys=False).apply(add_target)"
   ]
  },
  {
   "cell_type": "code",
   "execution_count": null,
   "id": "c6ab1e8e-941f-45c6-8000-85a9b04a4f2c",
   "metadata": {},
   "outputs": [],
   "source": [
    "df[df[\"team\"] == \"WAS\"]"
   ]
  },
  {
   "cell_type": "code",
   "execution_count": null,
   "id": "27f94f98-d0b0-4f57-8819-994293463ffc",
   "metadata": {
    "scrolled": true
   },
   "outputs": [],
   "source": [
    "df[\"target\"][pd.isnull(df[\"target\"])] = 2"
   ]
  },
  {
   "cell_type": "code",
   "execution_count": null,
   "id": "7a1e3cb6-5757-41dc-81aa-c909ba91e51e",
   "metadata": {},
   "outputs": [],
   "source": [
    "df[\"target\"] = df[\"target\"].astype(int, errors=\"ignore\")\n",
    "df"
   ]
  },
  {
   "cell_type": "code",
   "execution_count": null,
   "id": "cf863175-a668-4dd1-bc8c-e979260d2d0d",
   "metadata": {},
   "outputs": [],
   "source": [
    "df[\"won\"].value_counts()"
   ]
  },
  {
   "cell_type": "code",
   "execution_count": null,
   "id": "44824e89-7706-4cea-8664-bdebfb91c764",
   "metadata": {},
   "outputs": [],
   "source": [
    "df[\"target\"].value_counts()"
   ]
  },
  {
   "cell_type": "code",
   "execution_count": null,
   "id": "de98a69e-d46e-4a37-afaa-9b93817e7081",
   "metadata": {},
   "outputs": [],
   "source": [
    "nulls = pd.isnull(df)\n",
    "nulls = nulls.sum()"
   ]
  },
  {
   "cell_type": "code",
   "execution_count": null,
   "id": "2183e1c4-1909-493f-8541-37aca1eada1a",
   "metadata": {},
   "outputs": [],
   "source": [
    "nulls = nulls[nulls > 0]"
   ]
  },
  {
   "cell_type": "code",
   "execution_count": null,
   "id": "a82e2b50-ed89-4f41-9533-2e34a2dd395d",
   "metadata": {},
   "outputs": [],
   "source": [
    "valid_columns = df.columns[~df.columns.isin(nulls.index)]"
   ]
  },
  {
   "cell_type": "code",
   "execution_count": null,
   "id": "94c42276-8c7d-4ba0-8753-b82ce77bdb3d",
   "metadata": {},
   "outputs": [],
   "source": [
    "valid_columns"
   ]
  },
  {
   "cell_type": "code",
   "execution_count": null,
   "id": "0e1e6ca0-a8aa-4471-9bfa-8e3e5663158f",
   "metadata": {},
   "outputs": [],
   "source": [
    "df = df[valid_columns].copy()"
   ]
  },
  {
   "cell_type": "code",
   "execution_count": null,
   "id": "3197aef4-f52e-4e9a-b348-97223fcc604a",
   "metadata": {},
   "outputs": [],
   "source": [
    "df"
   ]
  },
  {
   "cell_type": "code",
   "execution_count": null,
   "id": "88758eb8-43c0-455e-a3f0-4e3d28f889c2",
   "metadata": {},
   "outputs": [],
   "source": [
    "%pip install scikit-learn"
   ]
  },
  {
   "cell_type": "code",
   "execution_count": null,
   "id": "c949a0f7-3c0e-4314-9360-ee5acb55363c",
   "metadata": {},
   "outputs": [],
   "source": [
    "import sklearn\n",
    "from sklearn.model_selection import TimeSeriesSplit\n",
    "from sklearn.feature_selection import SequentialFeatureSelector\n",
    "from sklearn.linear_model import RidgeClassifier\n",
    "\n",
    "rr = RidgeClassifier(alpha=1)\n",
    "split = TimeSeriesSplit(n_splits=3)\n",
    "\n",
    "sfs = SequentialFeatureSelector(rr, n_features_to_select=30,direction=\"forward\", cv=split)"
   ]
  },
  {
   "cell_type": "code",
   "execution_count": null,
   "id": "3792e1fb-a4b1-43af-8fcf-4e7862841cc0",
   "metadata": {},
   "outputs": [],
   "source": [
    "removed_columns = [\"season\", \"date\", \"won\", \"target\", \"team\", \"team_opp\"]"
   ]
  },
  {
   "cell_type": "code",
   "execution_count": null,
   "id": "12d44331-b890-4998-9680-456f3914c1ab",
   "metadata": {},
   "outputs": [],
   "source": [
    "selected_columns = df.columns[~df.columns.isin(removed_columns)]"
   ]
  },
  {
   "cell_type": "code",
   "execution_count": null,
   "id": "6d8ebaea-ee68-4063-8ac8-1e5b966183a7",
   "metadata": {},
   "outputs": [],
   "source": [
    "from sklearn.preprocessing import MinMaxScaler\n",
    "\n",
    "scaler = MinMaxScaler()\n",
    "df[selected_columns] = scaler.fit_transform(df[selected_columns])"
   ]
  },
  {
   "cell_type": "code",
   "execution_count": null,
   "id": "2b0a98db-d98b-4801-8784-57560fdbae40",
   "metadata": {},
   "outputs": [],
   "source": [
    "df"
   ]
  },
  {
   "cell_type": "code",
   "execution_count": null,
   "id": "2b560d1d-ac5d-4ec2-9273-b336a47630c6",
   "metadata": {},
   "outputs": [],
   "source": [
    "sfs.fit(df[selected_columns], df[\"target\"])"
   ]
  },
  {
   "cell_type": "code",
   "execution_count": null,
   "id": "df79eba9-9e3e-4fa8-967c-9201d7c845d0",
   "metadata": {},
   "outputs": [],
   "source": [
    "predictors = list(selected_columns[sfs.get_support()])"
   ]
  },
  {
   "cell_type": "code",
   "execution_count": null,
   "id": "f075acfa-d8e8-47d0-bd25-be6e3c631bbb",
   "metadata": {},
   "outputs": [],
   "source": [
    "predictors"
   ]
  },
  {
   "cell_type": "code",
   "execution_count": null,
   "id": "0a5dc5dd-af2a-43b7-80dd-8c80d7ddaac6",
   "metadata": {},
   "outputs": [],
   "source": [
    "def backtest(data, model, predictors, start=2, step=1):\n",
    "    all_predictions = []\n",
    "\n",
    "    seasons = sorted(data[\"season\"].unique())\n",
    "\n",
    "    for i in range(start, len(seasons), step):\n",
    "        season = seasons[i]\n",
    "\n",
    "        train = data[data[\"season\"] < season]\n",
    "        test = data[data[\"season\"] == season]\n",
    "\n",
    "        model.fit(train[predictors], train[\"target\"])\n",
    "\n",
    "        preds = model.predict(test[predictors])\n",
    "        preds = pd.Series(preds, index=test.index)\n",
    "\n",
    "        combined = pd.concat([test[\"target\"], preds], axis=1)\n",
    "        combined.columns = [\"actual\", \"prediction\"]\n",
    "\n",
    "        all_predictions.append(combined)\n",
    "    return pd.concat(all_predictions)\n",
    "        "
   ]
  },
  {
   "cell_type": "code",
   "execution_count": null,
   "id": "cd14d44a-e1a0-4145-a490-52aa4af8fe2a",
   "metadata": {},
   "outputs": [],
   "source": [
    "predictions = backtest(df, rr, predictors)"
   ]
  },
  {
   "cell_type": "code",
   "execution_count": null,
   "id": "2d5a22be-3b44-430c-8b77-3c473d2fc3fd",
   "metadata": {},
   "outputs": [],
   "source": [
    "predictions"
   ]
  },
  {
   "cell_type": "code",
   "execution_count": null,
   "id": "d86ac0c2-53b7-4ee7-91f1-4cae6b0b7961",
   "metadata": {},
   "outputs": [],
   "source": [
    "from sklearn.metrics import accuracy_score\n",
    "\n",
    "predictions = predictions[predictions[\"actual\"] != 2]\n",
    "accuracy_score(predictions[\"actual\"], predictions[\"prediction\"])"
   ]
  },
  {
   "cell_type": "code",
   "execution_count": null,
   "id": "dd5df7ef-fb74-4419-a790-199e72fd5320",
   "metadata": {},
   "outputs": [],
   "source": [
    "df.groupby(\"home\").apply(lambda x: x[x[\"won\"] == 1].shape[0] / x.shape[0])"
   ]
  },
  {
   "cell_type": "code",
   "execution_count": null,
   "id": "1bf3f921-d990-4132-9ff7-b6ec09eb577e",
   "metadata": {},
   "outputs": [],
   "source": [
    "df_rolling = df[list(selected_columns) + [\"won\", \"team\", \"season\"]]"
   ]
  },
  {
   "cell_type": "code",
   "execution_count": null,
   "id": "f9a01715-14fe-4a0e-b036-045c6f6f7c6d",
   "metadata": {
    "scrolled": true
   },
   "outputs": [],
   "source": [
    "df_rolling"
   ]
  },
  {
   "cell_type": "code",
   "execution_count": null,
   "id": "f8c695d1-f1f5-4608-bde3-ddb550bf2c31",
   "metadata": {},
   "outputs": [],
   "source": [
    "def find_team_averages(team):\n",
    "    # Select only numeric columns\n",
    "    numeric_data = team.select_dtypes(include=[\"number\"])\n",
    "    # Apply rolling mean to numeric columns\n",
    "    rolling = numeric_data.rolling(5).mean()\n",
    "    # Combine with non-numeric data (if needed)\n",
    "    non_numeric_data = team.select_dtypes(exclude=[\"number\"])\n",
    "    return pd.concat([non_numeric_data, rolling], axis=1)\n",
    "\n",
    "df_rolling = df_rolling.groupby([\"team\", \"season\"], group_keys=False).apply(find_team_averages)\n"
   ]
  },
  {
   "cell_type": "code",
   "execution_count": null,
   "id": "d8a4c0cc-31d6-44d4-b011-114c797ae72f",
   "metadata": {},
   "outputs": [],
   "source": [
    "df_rolling"
   ]
  },
  {
   "cell_type": "code",
   "execution_count": null,
   "id": "13ceee08-0e06-42b7-9f82-6c0e6b97b972",
   "metadata": {},
   "outputs": [],
   "source": [
    "rolling_cols = [f\"{col}_5\" for col in df_rolling.columns]\n",
    "df_rolling.columns = rolling_cols\n",
    "\n",
    "df = pd.concat([df, df_rolling], axis=1)"
   ]
  },
  {
   "cell_type": "code",
   "execution_count": null,
   "id": "d42acc8e-23a4-43b4-8de2-fa0ccc7351eb",
   "metadata": {},
   "outputs": [],
   "source": [
    "df"
   ]
  },
  {
   "cell_type": "code",
   "execution_count": null,
   "id": "ced52dd9-207d-478d-aca9-135164e31d97",
   "metadata": {},
   "outputs": [],
   "source": [
    "df = df.dropna()"
   ]
  },
  {
   "cell_type": "code",
   "execution_count": null,
   "id": "a3f378ce-8942-4cea-b89c-ee9f316db609",
   "metadata": {},
   "outputs": [],
   "source": [
    "df"
   ]
  },
  {
   "cell_type": "code",
   "execution_count": null,
   "id": "1d9cbacd-4c3c-492e-8cb1-c58004ff3d10",
   "metadata": {},
   "outputs": [],
   "source": [
    "def shift_col(team, col_name):\n",
    "    next_col = team[col_name].shift(-1)\n",
    "    return next_col\n",
    "def add_col(df, col_name):\n",
    "    return df.groupby(\"team\", group_keys=False).apply(lambda x: shift_col(x, col_name))\n",
    "df[\"home_next\"] = add_col(df, \"home\")\n",
    "df[\"team_opp_next\"] = add_col(df, \"team_opp\")\n",
    "df[\"date_next\"] = add_col(df, \"date\")"
   ]
  },
  {
   "cell_type": "code",
   "execution_count": null,
   "id": "58d45429-9dea-4448-9d59-821afadf2ce0",
   "metadata": {},
   "outputs": [],
   "source": [
    "df = df.copy()"
   ]
  },
  {
   "cell_type": "code",
   "execution_count": null,
   "id": "037435a4-d4c8-4e2d-9a84-ad2c4017b1a0",
   "metadata": {},
   "outputs": [],
   "source": [
    "full = df.merge(df[rolling_cols + [\"team_opp_next\", \"date_next\", \"team\"]], left_on=[\"team\", \"date_next\"], \n",
    "                right_on=[\"team_opp_next\", \"date_next\"])"
   ]
  },
  {
   "cell_type": "code",
   "execution_count": null,
   "id": "a129d7ed-2efb-4e28-9792-5f9aa45fd7df",
   "metadata": {},
   "outputs": [],
   "source": [
    "full"
   ]
  },
  {
   "cell_type": "code",
   "execution_count": null,
   "id": "77f23579-3dcf-4eb1-80dc-0c3cdcef72c2",
   "metadata": {},
   "outputs": [],
   "source": [
    "full[[\"team_x\", \"team_opp_next_x\", \"team_y\", \"team_opp_next_y\", \"date_next\"]]"
   ]
  },
  {
   "cell_type": "code",
   "execution_count": null,
   "id": "ca39ce29-a1de-4946-9a77-35030e75e0f9",
   "metadata": {},
   "outputs": [],
   "source": [
    "removed_columns = list(full.columns[full.dtypes == \"object\"]) + removed_columns"
   ]
  },
  {
   "cell_type": "code",
   "execution_count": null,
   "id": "86f697db-ea7e-4f36-8c74-2c45492878b1",
   "metadata": {},
   "outputs": [],
   "source": [
    "removed_columns"
   ]
  },
  {
   "cell_type": "code",
   "execution_count": null,
   "id": "1a5e64ee-b8ef-4433-b9cc-56749109d53a",
   "metadata": {},
   "outputs": [],
   "source": [
    "selected_columns = full.columns[~full.columns.isin(removed_columns)]"
   ]
  },
  {
   "cell_type": "code",
   "execution_count": null,
   "id": "78c6c256-2e88-40ec-a6ef-66b589747817",
   "metadata": {},
   "outputs": [],
   "source": [
    "sfs.fit(full[selected_columns], full[\"target\"])"
   ]
  },
  {
   "cell_type": "code",
   "execution_count": null,
   "id": "1bd302cc-2c44-4ff6-999d-b25d34c2717c",
   "metadata": {},
   "outputs": [],
   "source": [
    "predictors = list(selected_columns[sfs.get_support()])"
   ]
  },
  {
   "cell_type": "code",
   "execution_count": null,
   "id": "a279fe45-fb49-459d-9481-4d93fb408bd3",
   "metadata": {},
   "outputs": [],
   "source": [
    "predictors"
   ]
  },
  {
   "cell_type": "code",
   "execution_count": null,
   "id": "0deb48d6-9055-476f-b8d9-d653a409dc36",
   "metadata": {},
   "outputs": [],
   "source": [
    "predictions = backtest(full, rr, predictors)"
   ]
  },
  {
   "cell_type": "code",
   "execution_count": null,
   "id": "a1cb5715-147d-41e8-8e3d-dd5cd9eaf27f",
   "metadata": {},
   "outputs": [],
   "source": [
    "accuracy_score(predictions[\"actual\"], predictions[\"prediction\"])"
   ]
  },
  {
   "cell_type": "code",
   "execution_count": null,
   "id": "83a6f6d7-8d40-4364-9f30-0d5b01001330",
   "metadata": {},
   "outputs": [],
   "source": [
    "# The model is 61.73370% accuracy"
   ]
  }
 ],
 "metadata": {
  "kernelspec": {
   "display_name": "Python 3 (ipykernel)",
   "language": "python",
   "name": "python3"
  },
  "language_info": {
   "codemirror_mode": {
    "name": "ipython",
    "version": 3
   },
   "file_extension": ".py",
   "mimetype": "text/x-python",
   "name": "python",
   "nbconvert_exporter": "python",
   "pygments_lexer": "ipython3",
   "version": "3.12.5"
  }
 },
 "nbformat": 4,
 "nbformat_minor": 5
}
